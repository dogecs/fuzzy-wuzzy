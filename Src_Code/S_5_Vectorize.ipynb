{
 "cells": [
  {
   "cell_type": "markdown",
   "metadata": {},
   "source": [
    "# Analisis Sentimen"
   ]
  },
  {
   "cell_type": "markdown",
   "metadata": {},
   "source": [
    "# 1. Import libraries"
   ]
  },
  {
   "cell_type": "code",
   "execution_count": 16,
   "metadata": {},
   "outputs": [],
   "source": [
    "#import os, re, json, string, pickle\n",
    "\n",
    "import pandas as pd\n",
    "import numpy as np\n",
    "import matplotlib.pyplot as plt\n",
    "import seaborn as sns\n",
    "\n",
    "from datetime import datetime\n",
    "from nltk.tokenize import word_tokenize\n",
    "from sklearn.feature_extraction.text import TfidfVectorizer\n",
    "from sklearn.feature_extraction.text import CountVectorizer\n",
    "from Sastrawi.Stemmer.StemmerFactory import StemmerFactory"
   ]
  },
  {
   "cell_type": "markdown",
   "metadata": {},
   "source": [
    "## Load Data"
   ]
  },
  {
   "cell_type": "code",
   "execution_count": 17,
   "metadata": {},
   "outputs": [],
   "source": [
    "data = pd.read_csv('E:\\Program\\M\\Code\\Program\\Stemmer_2\\FInal\\Data Final\\Data_Lex\\Lex_Indihome.csv')\n",
    "# data2 = pd.read_csv('E:\\Program\\M\\Code\\Program\\Stemmer_2\\FInal\\Data\\Data (@indihome)\\Data Keseluruhan\\indihomecare.csv')\n",
    "# data3 = pd.read_csv('E:\\Program\\M\\Code\\Program\\Stemmer_2\\FInal\\Data\\Data (@FirstMed)\\Firstmed_29_10.csv')"
   ]
  },
  {
   "cell_type": "markdown",
   "metadata": {},
   "source": [
    "## Menggabungkan Data"
   ]
  },
  {
   "cell_type": "code",
   "execution_count": 18,
   "metadata": {},
   "outputs": [
    {
     "data": {
      "text/html": [
       "<div>\n",
       "<style scoped>\n",
       "    .dataframe tbody tr th:only-of-type {\n",
       "        vertical-align: middle;\n",
       "    }\n",
       "\n",
       "    .dataframe tbody tr th {\n",
       "        vertical-align: top;\n",
       "    }\n",
       "\n",
       "    .dataframe thead th {\n",
       "        text-align: right;\n",
       "    }\n",
       "</style>\n",
       "<table border=\"1\" class=\"dataframe\">\n",
       "  <thead>\n",
       "    <tr style=\"text-align: right;\">\n",
       "      <th></th>\n",
       "      <th>Unnamed: 0</th>\n",
       "      <th>Unnamed: 0.1</th>\n",
       "      <th>Unnamed: 0.1.1</th>\n",
       "      <th>Tanggal</th>\n",
       "      <th>User ID</th>\n",
       "      <th>Data Teks</th>\n",
       "      <th>Data Teks_CaseFolding</th>\n",
       "      <th>Data Teks_Clean</th>\n",
       "      <th>Data Teks_clean_alay</th>\n",
       "      <th>Data Teks_Token</th>\n",
       "      <th>Data Teks_Filter</th>\n",
       "      <th>Data Teks_Stopword</th>\n",
       "      <th>jumlah_polarity</th>\n",
       "      <th>sentimen</th>\n",
       "    </tr>\n",
       "  </thead>\n",
       "  <tbody>\n",
       "    <tr>\n",
       "      <th>0</th>\n",
       "      <td>8789</td>\n",
       "      <td>9773</td>\n",
       "      <td>9773</td>\n",
       "      <td>2021-10-08 14:14:46+00:00</td>\n",
       "      <td>0002738s</td>\n",
       "      <td>@berrtitit @yowimiya @honkaistarrail parah bgt...</td>\n",
       "      <td>@berrtitit @yowimiya @honkaistarrail parah bgt...</td>\n",
       "      <td>parah bgt dikatain</td>\n",
       "      <td>parah begitu dikatain</td>\n",
       "      <td>['parah', 'begitu', 'dikatain']</td>\n",
       "      <td>['parah', 'dikatain']</td>\n",
       "      <td>parah dikatain</td>\n",
       "      <td>-1</td>\n",
       "      <td>negatif</td>\n",
       "    </tr>\n",
       "    <tr>\n",
       "      <th>1</th>\n",
       "      <td>4228</td>\n",
       "      <td>50608</td>\n",
       "      <td>50608</td>\n",
       "      <td>2021-10-07 23:19:08+00:00</td>\n",
       "      <td>001Arel</td>\n",
       "      <td>@IndiHomeCare https://t.co/TmZdy4Wbzs</td>\n",
       "      <td>@indihomecare https://t.co/tmzdy4wbzs</td>\n",
       "      <td>NaN</td>\n",
       "      <td>NaN</td>\n",
       "      <td>['']</td>\n",
       "      <td>['']</td>\n",
       "      <td>NaN</td>\n",
       "      <td>0</td>\n",
       "      <td>netral</td>\n",
       "    </tr>\n",
       "    <tr>\n",
       "      <th>2</th>\n",
       "      <td>11858</td>\n",
       "      <td>48559</td>\n",
       "      <td>48559</td>\n",
       "      <td>2021-10-09 06:02:42+00:00</td>\n",
       "      <td>01idham</td>\n",
       "      <td>@IndiHomeCare Oke cek dm ya</td>\n",
       "      <td>@indihomecare oke cek dm ya</td>\n",
       "      <td>oke cek</td>\n",
       "      <td>oke cek</td>\n",
       "      <td>['oke', 'cek', '']</td>\n",
       "      <td>['oke', 'cek', '']</td>\n",
       "      <td>oke cek</td>\n",
       "      <td>0</td>\n",
       "      <td>netral</td>\n",
       "    </tr>\n",
       "    <tr>\n",
       "      <th>3</th>\n",
       "      <td>9818</td>\n",
       "      <td>63158</td>\n",
       "      <td>63158</td>\n",
       "      <td>2021-10-01 14:46:21+00:00</td>\n",
       "      <td>02Lulo</td>\n",
       "      <td>hello  @IndiHomeCare lulo ingin curhat nih, se...</td>\n",
       "      <td>hello  @indihomecare lulo ingin curhat nih, se...</td>\n",
       "      <td>hello lulo ingin curhat nih selama sebulan tep...</td>\n",
       "      <td>halo lulo ingin curhat ini selama sebulan tepa...</td>\n",
       "      <td>['halo', 'lulo', 'ingin', 'curhat', 'ini', 'se...</td>\n",
       "      <td>['halo', 'lulo', 'curhat', 'sebulan', 'tepatny...</td>\n",
       "      <td>halo lulo curhat sebulan tepatnya september in...</td>\n",
       "      <td>-2</td>\n",
       "      <td>negatif</td>\n",
       "    </tr>\n",
       "    <tr>\n",
       "      <th>4</th>\n",
       "      <td>8414</td>\n",
       "      <td>15459</td>\n",
       "      <td>15459</td>\n",
       "      <td>2021-10-25 12:52:33+00:00</td>\n",
       "      <td>0318st___</td>\n",
       "      <td>@IndiHomeCare min ini gangguannya sampai kapan? 😶</td>\n",
       "      <td>@indihomecare min ini gangguannya sampai kapan? 😶</td>\n",
       "      <td>min ini gangguannya sampai kapan</td>\n",
       "      <td>admin ini gangguannya sampai kapan</td>\n",
       "      <td>['', 'admin', 'ini', 'gangguannya', 'sampai', ...</td>\n",
       "      <td>['', 'admin', 'gangguannya']</td>\n",
       "      <td>admin gangguannya</td>\n",
       "      <td>0</td>\n",
       "      <td>netral</td>\n",
       "    </tr>\n",
       "  </tbody>\n",
       "</table>\n",
       "</div>"
      ],
      "text/plain": [
       "   Unnamed: 0  Unnamed: 0.1  Unnamed: 0.1.1                    Tanggal  \\\n",
       "0        8789          9773            9773  2021-10-08 14:14:46+00:00   \n",
       "1        4228         50608           50608  2021-10-07 23:19:08+00:00   \n",
       "2       11858         48559           48559  2021-10-09 06:02:42+00:00   \n",
       "3        9818         63158           63158  2021-10-01 14:46:21+00:00   \n",
       "4        8414         15459           15459  2021-10-25 12:52:33+00:00   \n",
       "\n",
       "     User ID                                          Data Teks  \\\n",
       "0   0002738s  @berrtitit @yowimiya @honkaistarrail parah bgt...   \n",
       "1    001Arel              @IndiHomeCare https://t.co/TmZdy4Wbzs   \n",
       "2    01idham                        @IndiHomeCare Oke cek dm ya   \n",
       "3     02Lulo  hello  @IndiHomeCare lulo ingin curhat nih, se...   \n",
       "4  0318st___  @IndiHomeCare min ini gangguannya sampai kapan? 😶   \n",
       "\n",
       "                               Data Teks_CaseFolding  \\\n",
       "0  @berrtitit @yowimiya @honkaistarrail parah bgt...   \n",
       "1              @indihomecare https://t.co/tmzdy4wbzs   \n",
       "2                        @indihomecare oke cek dm ya   \n",
       "3  hello  @indihomecare lulo ingin curhat nih, se...   \n",
       "4  @indihomecare min ini gangguannya sampai kapan? 😶   \n",
       "\n",
       "                                     Data Teks_Clean  \\\n",
       "0                                 parah bgt dikatain   \n",
       "1                                                NaN   \n",
       "2                                           oke cek    \n",
       "3  hello lulo ingin curhat nih selama sebulan tep...   \n",
       "4                   min ini gangguannya sampai kapan   \n",
       "\n",
       "                                Data Teks_clean_alay  \\\n",
       "0                              parah begitu dikatain   \n",
       "1                                                NaN   \n",
       "2                                           oke cek    \n",
       "3  halo lulo ingin curhat ini selama sebulan tepa...   \n",
       "4                 admin ini gangguannya sampai kapan   \n",
       "\n",
       "                                     Data Teks_Token  \\\n",
       "0                    ['parah', 'begitu', 'dikatain']   \n",
       "1                                               ['']   \n",
       "2                                 ['oke', 'cek', '']   \n",
       "3  ['halo', 'lulo', 'ingin', 'curhat', 'ini', 'se...   \n",
       "4  ['', 'admin', 'ini', 'gangguannya', 'sampai', ...   \n",
       "\n",
       "                                    Data Teks_Filter  \\\n",
       "0                              ['parah', 'dikatain']   \n",
       "1                                               ['']   \n",
       "2                                 ['oke', 'cek', '']   \n",
       "3  ['halo', 'lulo', 'curhat', 'sebulan', 'tepatny...   \n",
       "4                       ['', 'admin', 'gangguannya']   \n",
       "\n",
       "                                  Data Teks_Stopword  jumlah_polarity sentimen  \n",
       "0                                     parah dikatain               -1  negatif  \n",
       "1                                                NaN                0   netral  \n",
       "2                                           oke cek                 0   netral  \n",
       "3  halo lulo curhat sebulan tepatnya september in...               -2  negatif  \n",
       "4                                  admin gangguannya                0   netral  "
      ]
     },
     "execution_count": 18,
     "metadata": {},
     "output_type": "execute_result"
    }
   ],
   "source": [
    "\n",
    "# Concate data\n",
    "# data = pd.concat([data1,data2,data3])\n",
    "data.head()"
   ]
  },
  {
   "cell_type": "code",
   "execution_count": 19,
   "metadata": {},
   "outputs": [],
   "source": [
    "# Cleanner \n",
    "def cleaning(text):\n",
    "    text= text[2:]\n",
    "    text = text.replace('\\n',' ')\n",
    "    return text"
   ]
  },
  {
   "cell_type": "code",
   "execution_count": 20,
   "metadata": {},
   "outputs": [
    {
     "data": {
      "text/plain": [
       "array([\"parah', 'dikatain']\", \"']\", \"oke', 'cek', '']\", ..., \"st']\",\n",
       "       \"halo', 'admin', 'jangkauan', 'sinyal', 'wifi', 'dikurangin', 'wifiku', 'dibobol', 'tetangga', 'admin', 'sinyalnya', 'kerumah']\",\n",
       "       \"tolong', 'banget', 'pusing', 'kuliah', 'wifi', 'lemottttt', 'nambah', 'beban']\"],\n",
       "      dtype=object)"
      ]
     },
     "execution_count": 20,
     "metadata": {},
     "output_type": "execute_result"
    }
   ],
   "source": [
    "data['Data Teks_Filter'] =  data['Data Teks_Filter'].apply(lambda x : cleaning(x))\n",
    "data['Data Teks_Filter'].values"
   ]
  },
  {
   "cell_type": "markdown",
   "metadata": {},
   "source": [
    "# 2. Data Preprocessing"
   ]
  },
  {
   "cell_type": "markdown",
   "metadata": {},
   "source": [
    "## 2.1. Preprocessing"
   ]
  },
  {
   "cell_type": "code",
   "execution_count": 21,
   "metadata": {},
   "outputs": [],
   "source": [
    "#@ E:\\Program\\M\\Code\\Program\\Stemmer_2\\FInal\\S_Pre_Processing.ipynb"
   ]
  },
  {
   "cell_type": "markdown",
   "metadata": {},
   "source": [
    "## 2.2. Text Vectorizing"
   ]
  },
  {
   "cell_type": "code",
   "execution_count": 22,
   "metadata": {},
   "outputs": [],
   "source": [
    "# Defining Vectorizer object\n",
    "vectorizer_tfidf = TfidfVectorizer(min_df=0.01, max_df=0.6)\n",
    "\n",
    "# Load saved vectorizer\n",
    "# vectorizer_tfidf = pickle.load(open('../model/vectorizer/vectorizer_tfidf.pickle', 'rb'))"
   ]
  },
  {
   "cell_type": "code",
   "execution_count": 23,
   "metadata": {},
   "outputs": [],
   "source": [
    "# fit and transform text data\n",
    "word_tfidf = vectorizer_tfidf.fit_transform(data['Data Teks'].values)\n",
    "\n",
    "# Load saved transformed data\n",
    "# word_tfidf = pickle.load(open('../model/vectorizer/word_tfidf.pickle', 'rb'))"
   ]
  },
  {
   "cell_type": "code",
   "execution_count": 24,
   "metadata": {},
   "outputs": [
    {
     "name": "stdout",
     "output_type": "stream",
     "text": [
      "Jumlah artikel = 5944\n",
      "Jumlah fitur   = 182\n"
     ]
    },
    {
     "name": "stderr",
     "output_type": "stream",
     "text": [
      "C:\\Users\\ASUS\\AppData\\Local\\Programs\\Python\\Python39\\lib\\site-packages\\sklearn\\utils\\deprecation.py:87: FutureWarning: Function get_feature_names is deprecated; get_feature_names is deprecated in 1.0 and will be removed in 1.2. Please use get_feature_names_out instead.\n",
      "  warnings.warn(msg, category=FutureWarning)\n"
     ]
    }
   ],
   "source": [
    "# Nama fitur\n",
    "nama_fitur = vectorizer_tfidf.get_feature_names()\n",
    "\n",
    "# Dimensi data\n",
    "dimensions = word_tfidf.get_shape()\n",
    "print(f\"Jumlah artikel = {dimensions[0]}\")\n",
    "print(f\"Jumlah fitur   = {dimensions[1]}\")"
   ]
  },
  {
   "cell_type": "markdown",
   "metadata": {},
   "source": [
    "## 2.3. Kata dengan bobot TF-IDF tertinggi"
   ]
  },
  {
   "cell_type": "code",
   "execution_count": 25,
   "metadata": {},
   "outputs": [
    {
     "data": {
      "text/html": [
       "<div>\n",
       "<style scoped>\n",
       "    .dataframe tbody tr th:only-of-type {\n",
       "        vertical-align: middle;\n",
       "    }\n",
       "\n",
       "    .dataframe tbody tr th {\n",
       "        vertical-align: top;\n",
       "    }\n",
       "\n",
       "    .dataframe thead th {\n",
       "        text-align: right;\n",
       "    }\n",
       "</style>\n",
       "<table border=\"1\" class=\"dataframe\">\n",
       "  <thead>\n",
       "    <tr style=\"text-align: right;\">\n",
       "      <th></th>\n",
       "      <th>Kata</th>\n",
       "      <th>Banyak</th>\n",
       "    </tr>\n",
       "  </thead>\n",
       "  <tbody>\n",
       "    <tr>\n",
       "      <th>56</th>\n",
       "      <td>indihome</td>\n",
       "      <td>255</td>\n",
       "    </tr>\n",
       "    <tr>\n",
       "      <th>180</th>\n",
       "      <td>yg</td>\n",
       "      <td>181</td>\n",
       "    </tr>\n",
       "    <tr>\n",
       "      <th>27</th>\n",
       "      <td>cek</td>\n",
       "      <td>170</td>\n",
       "    </tr>\n",
       "    <tr>\n",
       "      <th>71</th>\n",
       "      <td>kak</td>\n",
       "      <td>105</td>\n",
       "    </tr>\n",
       "    <tr>\n",
       "      <th>55</th>\n",
       "      <td>https</td>\n",
       "      <td>104</td>\n",
       "    </tr>\n",
       "    <tr>\n",
       "      <th>170</th>\n",
       "      <td>tolong</td>\n",
       "      <td>93</td>\n",
       "    </tr>\n",
       "    <tr>\n",
       "      <th>35</th>\n",
       "      <td>di</td>\n",
       "      <td>93</td>\n",
       "    </tr>\n",
       "    <tr>\n",
       "      <th>141</th>\n",
       "      <td>saya</td>\n",
       "      <td>92</td>\n",
       "    </tr>\n",
       "    <tr>\n",
       "      <th>152</th>\n",
       "      <td>sudah</td>\n",
       "      <td>67</td>\n",
       "    </tr>\n",
       "    <tr>\n",
       "      <th>89</th>\n",
       "      <td>lagi</td>\n",
       "      <td>58</td>\n",
       "    </tr>\n",
       "    <tr>\n",
       "      <th>43</th>\n",
       "      <td>ga</td>\n",
       "      <td>56</td>\n",
       "    </tr>\n",
       "    <tr>\n",
       "      <th>38</th>\n",
       "      <td>dong</td>\n",
       "      <td>55</td>\n",
       "    </tr>\n",
       "    <tr>\n",
       "      <th>114</th>\n",
       "      <td>min</td>\n",
       "      <td>52</td>\n",
       "    </tr>\n",
       "    <tr>\n",
       "      <th>37</th>\n",
       "      <td>dm</td>\n",
       "      <td>52</td>\n",
       "    </tr>\n",
       "    <tr>\n",
       "      <th>10</th>\n",
       "      <td>baca</td>\n",
       "      <td>51</td>\n",
       "    </tr>\n",
       "    <tr>\n",
       "      <th>5</th>\n",
       "      <td>aku</td>\n",
       "      <td>51</td>\n",
       "    </tr>\n",
       "    <tr>\n",
       "      <th>58</th>\n",
       "      <td>ini</td>\n",
       "      <td>50</td>\n",
       "    </tr>\n",
       "    <tr>\n",
       "      <th>102</th>\n",
       "      <td>lu</td>\n",
       "      <td>50</td>\n",
       "    </tr>\n",
       "    <tr>\n",
       "      <th>178</th>\n",
       "      <td>yaa</td>\n",
       "      <td>48</td>\n",
       "    </tr>\n",
       "    <tr>\n",
       "      <th>62</th>\n",
       "      <td>iya</td>\n",
       "      <td>48</td>\n",
       "    </tr>\n",
       "  </tbody>\n",
       "</table>\n",
       "</div>"
      ],
      "text/plain": [
       "         Kata  Banyak\n",
       "56   indihome     255\n",
       "180        yg     181\n",
       "27        cek     170\n",
       "71        kak     105\n",
       "55      https     104\n",
       "170    tolong      93\n",
       "35         di      93\n",
       "141      saya      92\n",
       "152     sudah      67\n",
       "89       lagi      58\n",
       "43         ga      56\n",
       "38       dong      55\n",
       "114       min      52\n",
       "37         dm      52\n",
       "10       baca      51\n",
       "5         aku      51\n",
       "58        ini      50\n",
       "102        lu      50\n",
       "178       yaa      48\n",
       "62        iya      48"
      ]
     },
     "execution_count": 25,
     "metadata": {},
     "output_type": "execute_result"
    }
   ],
   "source": [
    "content1, content2 = [], []\n",
    "\n",
    "for n in range(dimensions[0]):\n",
    "    # Convert sparse matrix row by row \n",
    "    row = word_tfidf.getrow(n).toarray()[0].ravel()\n",
    "    # Get top values and its indexes \n",
    "    top_ten_indices = row.argsort()[-1]\n",
    "    top_ten_values = row[row.argsort()[-1]]\n",
    "    # Identify the highest TFIDF value and word #\n",
    "    highestTFIDFword = nama_fitur[top_ten_indices]\n",
    "    highestTFIDFvalue = top_ten_values\n",
    "    top1word = {'nomor artikel': n+1, 'nilai TFIDF': highestTFIDFvalue,\n",
    "                'top word': highestTFIDFword}\n",
    "    content1.append(top1word)\n",
    "    content2.append(highestTFIDFword)\n",
    "\n",
    "# Hitung Frekuiensi kata dengan bobot terbesar\n",
    "content2 = np.asarray(content2)\n",
    "words, n = np.unique(content2, return_counts=True)\n",
    "\n",
    "# Convert to DataFrame lalu urutkan secara descending\n",
    "# lalu pilih 20 kata dengan frekuensi terbesar \n",
    "words_data = pd.DataFrame({\n",
    "    'Kata': words,\n",
    "    'Banyak': n\n",
    "}).sort_values(by='Banyak', ascending=False).head(20)\n",
    "words_data"
   ]
  },
  {
   "cell_type": "code",
   "execution_count": 26,
   "metadata": {},
   "outputs": [
    {
     "data": {
      "image/png": "[encoded data removed]",
      "text/plain": [
       "<Figure size 720x720 with 1 Axes>"
      ]
     },
     "metadata": {
      "needs_background": "light"
     },
     "output_type": "display_data"
    }
   ],
   "source": [
    "# Plotting Barplot\n",
    "plt.figure(figsize = (10,10))\n",
    "sns.barplot(x = words_data['Kata'],y = words_data['Banyak'])\n",
    "for i, v in enumerate(words_data['Banyak'].tolist()):\n",
    "    plt.text(i-len(str(v))/10-.05, v + 50, str(v),fontsize=10)\n",
    "plt.title('Kata Dengan Bobot Terbesar',fontsize=20)\n",
    "plt.xticks(rotation=90)\n",
    "plt.xlabel('Kata',fontsize=16)\n",
    "plt.ylabel('Frekuensi',fontsize=16)\n",
    "plt.show()"
   ]
  }
 ],
 "metadata": {
  "interpreter": {
   "hash": "8da01e5a71448ea74f54d88afa8911010d1d12e23bc7e103d40d5def4a09152c"
  },
  "kernelspec": {
   "display_name": "Python 3.9.7 64-bit",
   "language": "python",
   "name": "python3"
  },
  "language_info": {
   "codemirror_mode": {
    "name": "ipython",
    "version": 3
   },
   "file_extension": ".py",
   "mimetype": "text/x-python",
   "name": "python",
   "nbconvert_exporter": "python",
   "pygments_lexer": "ipython3",
   "version": "3.9.7"
  },
  "orig_nbformat": 4
 },
 "nbformat": 4,
 "nbformat_minor": 2
}
