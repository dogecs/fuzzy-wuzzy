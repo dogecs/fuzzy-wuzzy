{
 "cells": [
  {
   "cell_type": "markdown",
   "metadata": {},
   "source": [
    "# SNSCRAPE\n",
    "### Source Code:\n",
    "#### https://github.com/JustAnotherArchivist/snscrape\n",
    "\n",
    "\n",
    "#### https://medium.com/dataseries/how-to-scrape-millions-of-tweets-using-snscrape-195ee3594721"
   ]
  },
  {
   "cell_type": "code",
   "execution_count": 16,
   "metadata": {},
   "outputs": [],
   "source": [
    "import csv\n",
    "import snscrape.modules.twitter as sntwitter\n",
    "import pandas as pd"
   ]
  },
  {
   "cell_type": "code",
   "execution_count": 17,
   "metadata": {},
   "outputs": [],
   "source": [
    "# Creating list to append tweet data to\n",
    "tweets_list2 = []"
   ]
  },
  {
   "cell_type": "code",
   "execution_count": 18,
   "metadata": {},
   "outputs": [],
   "source": [
    "# Using TwitterSearchScraper to scrape data and append tweets to list\n",
    "for i,tweet in enumerate(sntwitter.TwitterSearchScraper('@IndiHome since:2021-10-1 until:2021-11-1').get_items()):\n",
    "    if i>500000:\n",
    "        break\n",
    "    tweets_list2.append([tweet.date, tweet.user.username, tweet.content])\n",
    "    "
   ]
  },
  {
   "cell_type": "code",
   "execution_count": 19,
   "metadata": {},
   "outputs": [],
   "source": [
    "# Creating a dataframe from the tweets list above\n",
    "tweets_df2 = pd.DataFrame(tweets_list2, columns=['Tanggal', 'User ID', 'Data Teks'])"
   ]
  },
  {
   "cell_type": "code",
   "execution_count": 20,
   "metadata": {},
   "outputs": [
    {
     "data": {
      "text/html": [
       "<div>\n",
       "<style scoped>\n",
       "    .dataframe tbody tr th:only-of-type {\n",
       "        vertical-align: middle;\n",
       "    }\n",
       "\n",
       "    .dataframe tbody tr th {\n",
       "        vertical-align: top;\n",
       "    }\n",
       "\n",
       "    .dataframe thead th {\n",
       "        text-align: right;\n",
       "    }\n",
       "</style>\n",
       "<table border=\"1\" class=\"dataframe\">\n",
       "  <thead>\n",
       "    <tr style=\"text-align: right;\">\n",
       "      <th></th>\n",
       "      <th>Tanggal</th>\n",
       "      <th>User ID</th>\n",
       "      <th>Data Teks</th>\n",
       "    </tr>\n",
       "  </thead>\n",
       "  <tbody>\n",
       "    <tr>\n",
       "      <th>0</th>\n",
       "      <td>2021-10-31 23:50:07+00:00</td>\n",
       "      <td>SuyantoMohammat</td>\n",
       "      <td>@IndiHome @IndiHomeCare  tolong di cek interne...</td>\n",
       "    </tr>\n",
       "    <tr>\n",
       "      <th>1</th>\n",
       "      <td>2021-10-31 23:39:25+00:00</td>\n",
       "      <td>YusufDewa11</td>\n",
       "      <td>@IndiHome tolong untuk kupang bagian atas perb...</td>\n",
       "    </tr>\n",
       "    <tr>\n",
       "      <th>2</th>\n",
       "      <td>2021-10-31 23:39:21+00:00</td>\n",
       "      <td>yyyourbaee</td>\n",
       "      <td>@IndiHome @IndiHomeCare Pagi Min, ini gimana S...</td>\n",
       "    </tr>\n",
       "    <tr>\n",
       "      <th>3</th>\n",
       "      <td>2021-10-31 23:11:34+00:00</td>\n",
       "      <td>ichmans</td>\n",
       "      <td>@IndiHome usul dong indihome di STB UseeTV nya...</td>\n",
       "    </tr>\n",
       "    <tr>\n",
       "      <th>4</th>\n",
       "      <td>2021-10-31 22:30:55+00:00</td>\n",
       "      <td>ilhamsibandeng</td>\n",
       "      <td>@IndiHomeCare @IndiHome min tolong ini bagaima...</td>\n",
       "    </tr>\n",
       "    <tr>\n",
       "      <th>...</th>\n",
       "      <td>...</td>\n",
       "      <td>...</td>\n",
       "      <td>...</td>\n",
       "    </tr>\n",
       "    <tr>\n",
       "      <th>14143</th>\n",
       "      <td>2021-10-01 00:24:40+00:00</td>\n",
       "      <td>bdewabrata_</td>\n",
       "      <td>@IndiHome hallo min kenapa tidak bisa login ro...</td>\n",
       "    </tr>\n",
       "    <tr>\n",
       "      <th>14144</th>\n",
       "      <td>2021-10-01 00:18:25+00:00</td>\n",
       "      <td>nanasinasigrg</td>\n",
       "      <td>@IndiHome Ini cuma di aku aja apa emang dream ...</td>\n",
       "    </tr>\n",
       "    <tr>\n",
       "      <th>14145</th>\n",
       "      <td>2021-10-01 00:15:39+00:00</td>\n",
       "      <td>Selowsajolah</td>\n",
       "      <td>@indihome kapan normal lagi. Kami masih gak ad...</td>\n",
       "    </tr>\n",
       "    <tr>\n",
       "      <th>14146</th>\n",
       "      <td>2021-10-01 00:12:03+00:00</td>\n",
       "      <td>ajibudi_s</td>\n",
       "      <td>@Randysanasini @IndiHome @IndiHomeCare @Telkom...</td>\n",
       "    </tr>\n",
       "    <tr>\n",
       "      <th>14147</th>\n",
       "      <td>2021-10-01 00:09:17+00:00</td>\n",
       "      <td>findingneoma</td>\n",
       "      <td>@IndiHome min, internet di rumah udah seminggu...</td>\n",
       "    </tr>\n",
       "  </tbody>\n",
       "</table>\n",
       "<p>14148 rows × 3 columns</p>\n",
       "</div>"
      ],
      "text/plain": [
       "                        Tanggal          User ID  \\\n",
       "0     2021-10-31 23:50:07+00:00  SuyantoMohammat   \n",
       "1     2021-10-31 23:39:25+00:00      YusufDewa11   \n",
       "2     2021-10-31 23:39:21+00:00       yyyourbaee   \n",
       "3     2021-10-31 23:11:34+00:00          ichmans   \n",
       "4     2021-10-31 22:30:55+00:00   ilhamsibandeng   \n",
       "...                         ...              ...   \n",
       "14143 2021-10-01 00:24:40+00:00      bdewabrata_   \n",
       "14144 2021-10-01 00:18:25+00:00    nanasinasigrg   \n",
       "14145 2021-10-01 00:15:39+00:00     Selowsajolah   \n",
       "14146 2021-10-01 00:12:03+00:00        ajibudi_s   \n",
       "14147 2021-10-01 00:09:17+00:00     findingneoma   \n",
       "\n",
       "                                               Data Teks  \n",
       "0      @IndiHome @IndiHomeCare  tolong di cek interne...  \n",
       "1      @IndiHome tolong untuk kupang bagian atas perb...  \n",
       "2      @IndiHome @IndiHomeCare Pagi Min, ini gimana S...  \n",
       "3      @IndiHome usul dong indihome di STB UseeTV nya...  \n",
       "4      @IndiHomeCare @IndiHome min tolong ini bagaima...  \n",
       "...                                                  ...  \n",
       "14143  @IndiHome hallo min kenapa tidak bisa login ro...  \n",
       "14144  @IndiHome Ini cuma di aku aja apa emang dream ...  \n",
       "14145  @indihome kapan normal lagi. Kami masih gak ad...  \n",
       "14146  @Randysanasini @IndiHome @IndiHomeCare @Telkom...  \n",
       "14147  @IndiHome min, internet di rumah udah seminggu...  \n",
       "\n",
       "[14148 rows x 3 columns]"
      ]
     },
     "execution_count": 20,
     "metadata": {},
     "output_type": "execute_result"
    }
   ],
   "source": [
    "tweets_df2.to_csv('E:\\Program\\M\\Code\\Program\\Stemmer_2\\FInal\\data_crawling11.csv')\n",
    "tweets_df2"
   ]
  }
 ],
 "metadata": {
  "interpreter": {
   "hash": "8da01e5a71448ea74f54d88afa8911010d1d12e23bc7e103d40d5def4a09152c"
  },
  "kernelspec": {
   "display_name": "Python 3.9.7 64-bit",
   "name": "python3"
  },
  "language_info": {
   "codemirror_mode": {
    "name": "ipython",
    "version": 3
   },
   "file_extension": ".py",
   "mimetype": "text/x-python",
   "name": "python",
   "nbconvert_exporter": "python",
   "pygments_lexer": "ipython3",
   "version": "3.9.7"
  },
  "orig_nbformat": 4
 },
 "nbformat": 4,
 "nbformat_minor": 2
}
